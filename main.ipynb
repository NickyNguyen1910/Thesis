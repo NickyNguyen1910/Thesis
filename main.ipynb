{
 "cells": [
  {
   "cell_type": "code",
   "execution_count": null,
   "metadata": {},
   "outputs": [],
   "source": [
    "import pandas as pd\n",
    "\n",
    "\n",
    "df = pd.read_csv('D:\\Study-3rd(1st)\\Thesis\\data\\car_price_dataset (1).csv')\n",
    "\n",
    "\n",
    "sorted_df = df.sort_values(by='Brand')\n",
    "sorted_df.to_csv('D:\\Study-3rd(1st)\\Thesis\\data\\car_price_sorted.csv', index=False)\n",
    "\n"
   ]
  },
  {
   "cell_type": "code",
   "execution_count": null,
   "metadata": {},
   "outputs": [
    {
     "name": "stdout",
     "output_type": "stream",
     "text": [
      "Số lượng hãng xe là: 10\n"
     ]
    }
   ],
   "source": [
    "\n",
    "df = pd.read_csv('D:\\Study-3rd(1st)\\Thesis\\data\\car_price_sorted.csv')\n",
    "\n",
    "\n",
    "num_unique_brands = df['Brand'].nunique()\n",
    "\n",
    "\n",
    "print(f\"Số lượng hãng xe là: {num_unique_brands}\")"
   ]
  },
  {
   "cell_type": "code",
   "execution_count": 10,
   "metadata": {},
   "outputs": [],
   "source": [
    "# Đọc file CSV\n",
    "df = pd.read_csv('D:\\Study-3rd(1st)\\Thesis\\data\\car_price_dataset (1).csv')\n",
    "\n",
    "grouped_df = df.groupby('Brand')['Model'].apply(lambda x: ', '.join(sorted(x.unique()))).reset_index()\n",
    "\n",
    "# Lọc hai cột \"Brand\" và \"Model\" (hãng xe và dòng xe)\n",
    "selected_columns = df[['Brand', 'Model']]  # Điều chỉnh theo tên cột đúng trong file của anh\n",
    "\n",
    "# Sắp xếp theo thứ tự alphabet theo cột 'hãng xe'\n",
    "sorted_df = selected_columns.sort_values(by='Brand')\n",
    "\n",
    "# Đổi tên cột để hiển thị đẹp hơn\n",
    "sorted_df.columns = ['Brand', 'Model']\n",
    "\n",
    "# Lưu file mới\n",
    "sorted_df.to_csv('D:\\Study-3rd(1st)\\Thesis\\data\\sorted_brands_models.csv', index=False)"
   ]
  },
  {
   "cell_type": "code",
   "execution_count": null,
   "metadata": {},
   "outputs": [],
   "source": []
  }
 ],
 "metadata": {
  "kernelspec": {
   "display_name": "base",
   "language": "python",
   "name": "python3"
  },
  "language_info": {
   "codemirror_mode": {
    "name": "ipython",
    "version": 3
   },
   "file_extension": ".py",
   "mimetype": "text/x-python",
   "name": "python",
   "nbconvert_exporter": "python",
   "pygments_lexer": "ipython3",
   "version": "3.9.12"
  }
 },
 "nbformat": 4,
 "nbformat_minor": 2
}
