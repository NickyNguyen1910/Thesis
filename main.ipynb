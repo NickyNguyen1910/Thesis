{
 "cells": [
  {
   "cell_type": "code",
   "execution_count": 47,
   "metadata": {},
   "outputs": [],
   "source": [
    "import pandas as pd\n",
    "import seaborn as sns\n",
    "import numpy as np\n",
    "import matplotlib.pyplot as plt\n",
    "from sklearn.model_selection import train_test_split\n",
    "from sklearn.metrics import mean_absolute_error, mean_squared_error, r2_score\n",
    "from sklearn.preprocessing import MinMaxScaler\n",
    "from sklearn.preprocessing import StandardScaler\n",
    "from sklearn.model_selection import learning_curve"
   ]
  },
  {
   "cell_type": "code",
   "execution_count": 2,
   "metadata": {},
   "outputs": [
    {
     "data": {
      "text/html": [
       "<div>\n",
       "<style scoped>\n",
       "    .dataframe tbody tr th:only-of-type {\n",
       "        vertical-align: middle;\n",
       "    }\n",
       "\n",
       "    .dataframe tbody tr th {\n",
       "        vertical-align: top;\n",
       "    }\n",
       "\n",
       "    .dataframe thead th {\n",
       "        text-align: right;\n",
       "    }\n",
       "</style>\n",
       "<table border=\"1\" class=\"dataframe\">\n",
       "  <thead>\n",
       "    <tr style=\"text-align: right;\">\n",
       "      <th></th>\n",
       "      <th>Brand</th>\n",
       "      <th>Model</th>\n",
       "      <th>Year</th>\n",
       "      <th>Engine_Size</th>\n",
       "      <th>Fuel_Type</th>\n",
       "      <th>Transmission</th>\n",
       "      <th>Mileage</th>\n",
       "      <th>Doors</th>\n",
       "      <th>Owner_Count</th>\n",
       "      <th>Price</th>\n",
       "    </tr>\n",
       "  </thead>\n",
       "  <tbody>\n",
       "    <tr>\n",
       "      <th>0</th>\n",
       "      <td>Kia</td>\n",
       "      <td>Rio</td>\n",
       "      <td>2020</td>\n",
       "      <td>4.2</td>\n",
       "      <td>Diesel</td>\n",
       "      <td>Manual</td>\n",
       "      <td>289944</td>\n",
       "      <td>3</td>\n",
       "      <td>5</td>\n",
       "      <td>8501</td>\n",
       "    </tr>\n",
       "    <tr>\n",
       "      <th>1</th>\n",
       "      <td>Chevrolet</td>\n",
       "      <td>Malibu</td>\n",
       "      <td>2012</td>\n",
       "      <td>2.0</td>\n",
       "      <td>Hybrid</td>\n",
       "      <td>Automatic</td>\n",
       "      <td>5356</td>\n",
       "      <td>2</td>\n",
       "      <td>3</td>\n",
       "      <td>12092</td>\n",
       "    </tr>\n",
       "    <tr>\n",
       "      <th>2</th>\n",
       "      <td>Mercedes</td>\n",
       "      <td>GLA</td>\n",
       "      <td>2020</td>\n",
       "      <td>4.2</td>\n",
       "      <td>Diesel</td>\n",
       "      <td>Automatic</td>\n",
       "      <td>231440</td>\n",
       "      <td>4</td>\n",
       "      <td>2</td>\n",
       "      <td>11171</td>\n",
       "    </tr>\n",
       "    <tr>\n",
       "      <th>3</th>\n",
       "      <td>Audi</td>\n",
       "      <td>Q5</td>\n",
       "      <td>2023</td>\n",
       "      <td>2.0</td>\n",
       "      <td>Electric</td>\n",
       "      <td>Manual</td>\n",
       "      <td>160971</td>\n",
       "      <td>2</td>\n",
       "      <td>1</td>\n",
       "      <td>11780</td>\n",
       "    </tr>\n",
       "    <tr>\n",
       "      <th>4</th>\n",
       "      <td>Volkswagen</td>\n",
       "      <td>Golf</td>\n",
       "      <td>2003</td>\n",
       "      <td>2.6</td>\n",
       "      <td>Hybrid</td>\n",
       "      <td>Semi-Automatic</td>\n",
       "      <td>286618</td>\n",
       "      <td>3</td>\n",
       "      <td>3</td>\n",
       "      <td>2867</td>\n",
       "    </tr>\n",
       "  </tbody>\n",
       "</table>\n",
       "</div>"
      ],
      "text/plain": [
       "        Brand   Model  Year  Engine_Size Fuel_Type    Transmission  Mileage  \\\n",
       "0         Kia     Rio  2020          4.2    Diesel          Manual   289944   \n",
       "1   Chevrolet  Malibu  2012          2.0    Hybrid       Automatic     5356   \n",
       "2    Mercedes     GLA  2020          4.2    Diesel       Automatic   231440   \n",
       "3        Audi      Q5  2023          2.0  Electric          Manual   160971   \n",
       "4  Volkswagen    Golf  2003          2.6    Hybrid  Semi-Automatic   286618   \n",
       "\n",
       "   Doors  Owner_Count  Price  \n",
       "0      3            5   8501  \n",
       "1      2            3  12092  \n",
       "2      4            2  11171  \n",
       "3      2            1  11780  \n",
       "4      3            3   2867  "
      ]
     },
     "execution_count": 2,
     "metadata": {},
     "output_type": "execute_result"
    }
   ],
   "source": [
    "#Import and read data\n",
    "df = pd.read_csv('D:\\Study-3rd(1st)\\Thesis\\Thesis\\data\\car_price_dataset (1).csv')\n",
    "\n",
    "df.head()"
   ]
  },
  {
   "cell_type": "code",
   "execution_count": 3,
   "metadata": {},
   "outputs": [
    {
     "name": "stdout",
     "output_type": "stream",
     "text": [
      "Cột 'Brand' có các giá trị không trùng nhau: ['Kia' 'Chevrolet' 'Mercedes' 'Audi' 'Volkswagen' 'Toyota' 'Honda' 'BMW'\n",
      " 'Hyundai' 'Ford']\n",
      "Cột 'Model' có các giá trị không trùng nhau: ['Rio' 'Malibu' 'GLA' 'Q5' 'Golf' 'Camry' 'Civic' 'Sportage' 'RAV4'\n",
      " '5 Series' 'CR-V' 'Elantra' 'Tiguan' 'Equinox' 'Explorer' 'A3' '3 Series'\n",
      " 'Tucson' 'Passat' 'Impala' 'Corolla' 'Optima' 'Fiesta' 'A4' 'Focus'\n",
      " 'E-Class' 'Sonata' 'C-Class' 'X5' 'Accord']\n",
      "Cột 'Year' có các giá trị không trùng nhau: [2020 2012 2023 2003 2007 2010 2001 2014 2005 2013 2009 2004 2017 2006\n",
      " 2000 2021 2018 2016 2011 2022 2008 2015 2002 2019]\n",
      "Cột 'Engine_Size' có các giá trị không trùng nhau: [4.2 2.  2.6 2.7 3.4 4.7 3.1 1.3 4.5 4.8 2.3 2.4 3.2 2.9 1.5 1.8 4.6 2.8\n",
      " 3.9 3.3 1.9 3.5 1.4 2.2 1.  1.2 4.9 3.6 3.8 4.  1.7 1.6 4.1 1.1 2.5 3.\n",
      " 5.  2.1 3.7 4.3 4.4]\n",
      "Cột 'Fuel_Type' có các giá trị không trùng nhau: ['Diesel' 'Hybrid' 'Electric' 'Petrol']\n",
      "Cột 'Transmission' có các giá trị không trùng nhau: ['Manual' 'Automatic' 'Semi-Automatic']\n",
      "Cột 'Mileage' có các giá trị không trùng nhau: [289944   5356 231440 ...  86664 225772 157882]\n",
      "Cột 'Doors' có các giá trị không trùng nhau: [3 2 4 5]\n",
      "Cột 'Owner_Count' có các giá trị không trùng nhau: [5 3 2 1 4]\n",
      "Cột 'Price' có các giá trị không trùng nhau: [ 8501 12092 11171 ...  9866  4084  3342]\n"
     ]
    }
   ],
   "source": [
    "for column in df.columns:\n",
    "    unique_values = df[column].unique()\n",
    "    print(f\"Cột '{column}' có các giá trị không trùng nhau: {unique_values}\")"
   ]
  },
  {
   "cell_type": "code",
   "execution_count": 4,
   "metadata": {},
   "outputs": [
    {
     "name": "stdout",
     "output_type": "stream",
     "text": [
      "<class 'pandas.core.frame.DataFrame'>\n",
      "RangeIndex: 10000 entries, 0 to 9999\n",
      "Data columns (total 10 columns):\n",
      " #   Column        Non-Null Count  Dtype  \n",
      "---  ------        --------------  -----  \n",
      " 0   Brand         10000 non-null  object \n",
      " 1   Model         10000 non-null  object \n",
      " 2   Year          10000 non-null  int64  \n",
      " 3   Engine_Size   10000 non-null  float64\n",
      " 4   Fuel_Type     10000 non-null  object \n",
      " 5   Transmission  10000 non-null  object \n",
      " 6   Mileage       10000 non-null  int64  \n",
      " 7   Doors         10000 non-null  int64  \n",
      " 8   Owner_Count   10000 non-null  int64  \n",
      " 9   Price         10000 non-null  int64  \n",
      "dtypes: float64(1), int64(5), object(4)\n",
      "memory usage: 781.4+ KB\n"
     ]
    }
   ],
   "source": [
    "df.info()"
   ]
  },
  {
   "cell_type": "code",
   "execution_count": 5,
   "metadata": {},
   "outputs": [
    {
     "data": {
      "text/plain": [
       "count    10000.00000\n",
       "mean      8852.96440\n",
       "std       3112.59681\n",
       "min       2000.00000\n",
       "25%       6646.00000\n",
       "50%       8858.50000\n",
       "75%      11086.50000\n",
       "max      18301.00000\n",
       "Name: Price, dtype: float64"
      ]
     },
     "execution_count": 5,
     "metadata": {},
     "output_type": "execute_result"
    }
   ],
   "source": [
    "df[\"Price\"].describe()"
   ]
  },
  {
   "cell_type": "code",
   "execution_count": 6,
   "metadata": {},
   "outputs": [
    {
     "data": {
      "text/html": [
       "<div>\n",
       "<style scoped>\n",
       "    .dataframe tbody tr th:only-of-type {\n",
       "        vertical-align: middle;\n",
       "    }\n",
       "\n",
       "    .dataframe tbody tr th {\n",
       "        vertical-align: top;\n",
       "    }\n",
       "\n",
       "    .dataframe thead th {\n",
       "        text-align: right;\n",
       "    }\n",
       "</style>\n",
       "<table border=\"1\" class=\"dataframe\">\n",
       "  <thead>\n",
       "    <tr style=\"text-align: right;\">\n",
       "      <th></th>\n",
       "      <th>Brand</th>\n",
       "      <th>Model</th>\n",
       "      <th>Year</th>\n",
       "      <th>Engine_Size</th>\n",
       "      <th>Fuel_Type</th>\n",
       "      <th>Transmission</th>\n",
       "      <th>Mileage</th>\n",
       "      <th>Doors</th>\n",
       "      <th>Owner_Count</th>\n",
       "      <th>Price</th>\n",
       "      <th>Brand_Encoded</th>\n",
       "      <th>Model_Encoded</th>\n",
       "      <th>Fuel_Type_Encoded</th>\n",
       "      <th>Transmission_Encoded</th>\n",
       "    </tr>\n",
       "  </thead>\n",
       "  <tbody>\n",
       "    <tr>\n",
       "      <th>0</th>\n",
       "      <td>Kia</td>\n",
       "      <td>Rio</td>\n",
       "      <td>2020</td>\n",
       "      <td>4.2</td>\n",
       "      <td>Diesel</td>\n",
       "      <td>Manual</td>\n",
       "      <td>289944</td>\n",
       "      <td>3</td>\n",
       "      <td>5</td>\n",
       "      <td>8501</td>\n",
       "      <td>6</td>\n",
       "      <td>1</td>\n",
       "      <td>1</td>\n",
       "      <td>0</td>\n",
       "    </tr>\n",
       "    <tr>\n",
       "      <th>1</th>\n",
       "      <td>Chevrolet</td>\n",
       "      <td>Malibu</td>\n",
       "      <td>2012</td>\n",
       "      <td>2.0</td>\n",
       "      <td>Hybrid</td>\n",
       "      <td>Automatic</td>\n",
       "      <td>5356</td>\n",
       "      <td>2</td>\n",
       "      <td>3</td>\n",
       "      <td>12092</td>\n",
       "      <td>2</td>\n",
       "      <td>0</td>\n",
       "      <td>2</td>\n",
       "      <td>1</td>\n",
       "    </tr>\n",
       "    <tr>\n",
       "      <th>2</th>\n",
       "      <td>Mercedes</td>\n",
       "      <td>GLA</td>\n",
       "      <td>2020</td>\n",
       "      <td>4.2</td>\n",
       "      <td>Diesel</td>\n",
       "      <td>Automatic</td>\n",
       "      <td>231440</td>\n",
       "      <td>4</td>\n",
       "      <td>2</td>\n",
       "      <td>11171</td>\n",
       "      <td>7</td>\n",
       "      <td>0</td>\n",
       "      <td>1</td>\n",
       "      <td>1</td>\n",
       "    </tr>\n",
       "    <tr>\n",
       "      <th>3</th>\n",
       "      <td>Audi</td>\n",
       "      <td>Q5</td>\n",
       "      <td>2023</td>\n",
       "      <td>2.0</td>\n",
       "      <td>Electric</td>\n",
       "      <td>Manual</td>\n",
       "      <td>160971</td>\n",
       "      <td>2</td>\n",
       "      <td>1</td>\n",
       "      <td>11780</td>\n",
       "      <td>0</td>\n",
       "      <td>0</td>\n",
       "      <td>0</td>\n",
       "      <td>0</td>\n",
       "    </tr>\n",
       "    <tr>\n",
       "      <th>4</th>\n",
       "      <td>Volkswagen</td>\n",
       "      <td>Golf</td>\n",
       "      <td>2003</td>\n",
       "      <td>2.6</td>\n",
       "      <td>Hybrid</td>\n",
       "      <td>Semi-Automatic</td>\n",
       "      <td>286618</td>\n",
       "      <td>3</td>\n",
       "      <td>3</td>\n",
       "      <td>2867</td>\n",
       "      <td>9</td>\n",
       "      <td>0</td>\n",
       "      <td>2</td>\n",
       "      <td>2</td>\n",
       "    </tr>\n",
       "    <tr>\n",
       "      <th>5</th>\n",
       "      <td>Toyota</td>\n",
       "      <td>Camry</td>\n",
       "      <td>2007</td>\n",
       "      <td>2.7</td>\n",
       "      <td>Petrol</td>\n",
       "      <td>Automatic</td>\n",
       "      <td>157889</td>\n",
       "      <td>4</td>\n",
       "      <td>4</td>\n",
       "      <td>7242</td>\n",
       "      <td>8</td>\n",
       "      <td>2</td>\n",
       "      <td>3</td>\n",
       "      <td>1</td>\n",
       "    </tr>\n",
       "    <tr>\n",
       "      <th>6</th>\n",
       "      <td>Honda</td>\n",
       "      <td>Civic</td>\n",
       "      <td>2010</td>\n",
       "      <td>3.4</td>\n",
       "      <td>Electric</td>\n",
       "      <td>Automatic</td>\n",
       "      <td>139584</td>\n",
       "      <td>3</td>\n",
       "      <td>1</td>\n",
       "      <td>11208</td>\n",
       "      <td>4</td>\n",
       "      <td>2</td>\n",
       "      <td>0</td>\n",
       "      <td>1</td>\n",
       "    </tr>\n",
       "    <tr>\n",
       "      <th>7</th>\n",
       "      <td>Kia</td>\n",
       "      <td>Sportage</td>\n",
       "      <td>2001</td>\n",
       "      <td>4.7</td>\n",
       "      <td>Electric</td>\n",
       "      <td>Semi-Automatic</td>\n",
       "      <td>157495</td>\n",
       "      <td>2</td>\n",
       "      <td>2</td>\n",
       "      <td>7950</td>\n",
       "      <td>6</td>\n",
       "      <td>0</td>\n",
       "      <td>0</td>\n",
       "      <td>2</td>\n",
       "    </tr>\n",
       "    <tr>\n",
       "      <th>8</th>\n",
       "      <td>Kia</td>\n",
       "      <td>Sportage</td>\n",
       "      <td>2014</td>\n",
       "      <td>2.6</td>\n",
       "      <td>Hybrid</td>\n",
       "      <td>Manual</td>\n",
       "      <td>98700</td>\n",
       "      <td>3</td>\n",
       "      <td>4</td>\n",
       "      <td>9926</td>\n",
       "      <td>6</td>\n",
       "      <td>0</td>\n",
       "      <td>2</td>\n",
       "      <td>0</td>\n",
       "    </tr>\n",
       "    <tr>\n",
       "      <th>9</th>\n",
       "      <td>Toyota</td>\n",
       "      <td>RAV4</td>\n",
       "      <td>2005</td>\n",
       "      <td>3.1</td>\n",
       "      <td>Petrol</td>\n",
       "      <td>Manual</td>\n",
       "      <td>107724</td>\n",
       "      <td>2</td>\n",
       "      <td>5</td>\n",
       "      <td>6545</td>\n",
       "      <td>8</td>\n",
       "      <td>0</td>\n",
       "      <td>3</td>\n",
       "      <td>0</td>\n",
       "    </tr>\n",
       "  </tbody>\n",
       "</table>\n",
       "</div>"
      ],
      "text/plain": [
       "        Brand     Model  Year  Engine_Size Fuel_Type    Transmission  Mileage  \\\n",
       "0         Kia       Rio  2020          4.2    Diesel          Manual   289944   \n",
       "1   Chevrolet    Malibu  2012          2.0    Hybrid       Automatic     5356   \n",
       "2    Mercedes       GLA  2020          4.2    Diesel       Automatic   231440   \n",
       "3        Audi        Q5  2023          2.0  Electric          Manual   160971   \n",
       "4  Volkswagen      Golf  2003          2.6    Hybrid  Semi-Automatic   286618   \n",
       "5      Toyota     Camry  2007          2.7    Petrol       Automatic   157889   \n",
       "6       Honda     Civic  2010          3.4  Electric       Automatic   139584   \n",
       "7         Kia  Sportage  2001          4.7  Electric  Semi-Automatic   157495   \n",
       "8         Kia  Sportage  2014          2.6    Hybrid          Manual    98700   \n",
       "9      Toyota      RAV4  2005          3.1    Petrol          Manual   107724   \n",
       "\n",
       "   Doors  Owner_Count  Price  Brand_Encoded  Model_Encoded  Fuel_Type_Encoded  \\\n",
       "0      3            5   8501              6              1                  1   \n",
       "1      2            3  12092              2              0                  2   \n",
       "2      4            2  11171              7              0                  1   \n",
       "3      2            1  11780              0              0                  0   \n",
       "4      3            3   2867              9              0                  2   \n",
       "5      4            4   7242              8              2                  3   \n",
       "6      3            1  11208              4              2                  0   \n",
       "7      2            2   7950              6              0                  0   \n",
       "8      3            4   9926              6              0                  2   \n",
       "9      2            5   6545              8              0                  3   \n",
       "\n",
       "   Transmission_Encoded  \n",
       "0                     0  \n",
       "1                     1  \n",
       "2                     1  \n",
       "3                     0  \n",
       "4                     2  \n",
       "5                     1  \n",
       "6                     1  \n",
       "7                     2  \n",
       "8                     0  \n",
       "9                     0  "
      ]
     },
     "execution_count": 6,
     "metadata": {},
     "output_type": "execute_result"
    }
   ],
   "source": [
    "#Encode\n",
    "\n",
    "brand_mapping = {\n",
    "    \"Audi\": 0, \"BMW\": 1, \"Chevrolet\": 2, \"Ford\": 3, \"Honda\": 4,\n",
    "    \"Hyundai\": 5, \"Kia\": 6, \"Mercedes\": 7, \"Toyota\": 8, \"Volkswagen\": 9\n",
    "}\n",
    "\n",
    "model_mapping = {\n",
    "    \"Q5\": 0, \"A3\": 1, \"A4\": 2, \"3 Series\": 0, \"5 Series\": 1, \"X5\": 2,\n",
    "    \"Malibu\": 0, \"Equinox\": 1, \"Impala\": 2, \"Explorer\": 0, \"Focus\": 1, \"Fiesta\": 2,\n",
    "    \"Accord\": 0, \"CR-V\": 1, \"Civic\": 2, \"Tucson\": 0, \"Elantra\": 1, \"Sonata\": 2,\n",
    "    \"Sportage\": 0, \"Rio\": 1, \"Optima\": 2, \"GLA\": 0, \"C-Class\": 1, \"E-Class\": 2,\n",
    "    \"RAV4\": 0, \"Corolla\": 1, \"Camry\": 2, \"Golf\": 0, \"Passat\": 1, \"Tiguan\": 2\n",
    "}\n",
    "\n",
    "fuel_type_mapping = {\n",
    "    \"Electric\": 0, \"Diesel\": 1, \"Hybrid\": 2, \"Petrol\": 3\n",
    "}\n",
    "\n",
    "transmission_mapping = {\n",
    "    \"Manual\": 0, \"Automatic\": 1, \"Semi-Automatic\": 2,\n",
    "}\n",
    "\n",
    "df[\"Brand_Encoded\"] = df[\"Brand\"].map(brand_mapping)\n",
    "df[\"Model_Encoded\"] = df[\"Model\"].map(model_mapping)\n",
    "df[\"Fuel_Type_Encoded\"] = df[\"Fuel_Type\"].map(fuel_type_mapping)\n",
    "df[\"Transmission_Encoded\"] = df[\"Transmission\"].map(transmission_mapping)\n",
    "\n",
    "df.head(10)"
   ]
  },
  {
   "cell_type": "code",
   "execution_count": 7,
   "metadata": {},
   "outputs": [
    {
     "data": {
      "text/html": [
       "<div>\n",
       "<style scoped>\n",
       "    .dataframe tbody tr th:only-of-type {\n",
       "        vertical-align: middle;\n",
       "    }\n",
       "\n",
       "    .dataframe tbody tr th {\n",
       "        vertical-align: top;\n",
       "    }\n",
       "\n",
       "    .dataframe thead th {\n",
       "        text-align: right;\n",
       "    }\n",
       "</style>\n",
       "<table border=\"1\" class=\"dataframe\">\n",
       "  <thead>\n",
       "    <tr style=\"text-align: right;\">\n",
       "      <th></th>\n",
       "      <th>Brand_Encoded</th>\n",
       "      <th>Model_Encoded</th>\n",
       "      <th>Year</th>\n",
       "      <th>Engine_Size</th>\n",
       "      <th>Fuel_Type_Encoded</th>\n",
       "      <th>Transmission_Encoded</th>\n",
       "      <th>Mileage</th>\n",
       "      <th>Doors</th>\n",
       "      <th>Owner_Count</th>\n",
       "      <th>Price</th>\n",
       "    </tr>\n",
       "  </thead>\n",
       "  <tbody>\n",
       "    <tr>\n",
       "      <th>0</th>\n",
       "      <td>6</td>\n",
       "      <td>1</td>\n",
       "      <td>2020</td>\n",
       "      <td>4.2</td>\n",
       "      <td>1</td>\n",
       "      <td>0</td>\n",
       "      <td>289944</td>\n",
       "      <td>3</td>\n",
       "      <td>5</td>\n",
       "      <td>8501</td>\n",
       "    </tr>\n",
       "    <tr>\n",
       "      <th>1</th>\n",
       "      <td>2</td>\n",
       "      <td>0</td>\n",
       "      <td>2012</td>\n",
       "      <td>2.0</td>\n",
       "      <td>2</td>\n",
       "      <td>1</td>\n",
       "      <td>5356</td>\n",
       "      <td>2</td>\n",
       "      <td>3</td>\n",
       "      <td>12092</td>\n",
       "    </tr>\n",
       "    <tr>\n",
       "      <th>2</th>\n",
       "      <td>7</td>\n",
       "      <td>0</td>\n",
       "      <td>2020</td>\n",
       "      <td>4.2</td>\n",
       "      <td>1</td>\n",
       "      <td>1</td>\n",
       "      <td>231440</td>\n",
       "      <td>4</td>\n",
       "      <td>2</td>\n",
       "      <td>11171</td>\n",
       "    </tr>\n",
       "    <tr>\n",
       "      <th>3</th>\n",
       "      <td>0</td>\n",
       "      <td>0</td>\n",
       "      <td>2023</td>\n",
       "      <td>2.0</td>\n",
       "      <td>0</td>\n",
       "      <td>0</td>\n",
       "      <td>160971</td>\n",
       "      <td>2</td>\n",
       "      <td>1</td>\n",
       "      <td>11780</td>\n",
       "    </tr>\n",
       "    <tr>\n",
       "      <th>4</th>\n",
       "      <td>9</td>\n",
       "      <td>0</td>\n",
       "      <td>2003</td>\n",
       "      <td>2.6</td>\n",
       "      <td>2</td>\n",
       "      <td>2</td>\n",
       "      <td>286618</td>\n",
       "      <td>3</td>\n",
       "      <td>3</td>\n",
       "      <td>2867</td>\n",
       "    </tr>\n",
       "  </tbody>\n",
       "</table>\n",
       "</div>"
      ],
      "text/plain": [
       "   Brand_Encoded  Model_Encoded  Year  Engine_Size  Fuel_Type_Encoded  \\\n",
       "0              6              1  2020          4.2                  1   \n",
       "1              2              0  2012          2.0                  2   \n",
       "2              7              0  2020          4.2                  1   \n",
       "3              0              0  2023          2.0                  0   \n",
       "4              9              0  2003          2.6                  2   \n",
       "\n",
       "   Transmission_Encoded  Mileage  Doors  Owner_Count  Price  \n",
       "0                     0   289944      3            5   8501  \n",
       "1                     1     5356      2            3  12092  \n",
       "2                     1   231440      4            2  11171  \n",
       "3                     0   160971      2            1  11780  \n",
       "4                     2   286618      3            3   2867  "
      ]
     },
     "execution_count": 7,
     "metadata": {},
     "output_type": "execute_result"
    }
   ],
   "source": [
    "encoded_df_order = [\"Brand_Encoded\", \"Model_Encoded\", \"Year\", \"Engine_Size\", \"Fuel_Type_Encoded\", \"Transmission_Encoded\", \"Mileage\", \"Doors\", \"Owner_Count\", \"Price\"\t]\n",
    "encoded_df = df[encoded_df_order]\n",
    "encoded_df.head()\n"
   ]
  },
  {
   "cell_type": "code",
   "execution_count": 8,
   "metadata": {},
   "outputs": [
    {
     "data": {
      "image/png": "[encoded data removed]",
      "text/plain": [
       "<Figure size 720x576 with 2 Axes>"
      ]
     },
     "metadata": {
      "needs_background": "light"
     },
     "output_type": "display_data"
    }
   ],
   "source": [
    "#Plot Heatmap \n",
    "correlation_matrix = encoded_df.corr()\n",
    "\n",
    "plt.figure(figsize=(10, 8))\n",
    "sns.heatmap(correlation_matrix, annot=True, cmap=\"coolwarm\", fmt=\".2f\")\n",
    "\n",
    "plt.title(\"Heatmap of Correlations\")\n",
    "plt.show()"
   ]
  },
  {
   "cell_type": "code",
   "execution_count": 9,
   "metadata": {},
   "outputs": [],
   "source": [
    "X = encoded_df.drop(columns=[\"Price\"])  # X là tất cả các cột trừ cột \"Price\"\n",
    "Y = encoded_df[\"Price\"]  # Y là cột giá trị mục tiêu\n",
    "\n",
    "# Chia dữ liệu thành tập huấn luyện và tập kiểm tra\n",
    "X_train, X_test, Y_train, Y_test = train_test_split(X, Y, test_size=0.2, random_state=42)\n"
   ]
  },
  {
   "cell_type": "code",
   "execution_count": 10,
   "metadata": {},
   "outputs": [],
   "source": [
    "#Normalization\n",
    "\n",
    "# Fit scaler trên X_train và chuẩn hóa X_train và X_test\n",
    "\n",
    "# scaler = MinMaxScaler()\n",
    "# scaler.fit(X_train)\n",
    "\n",
    "# normalized_X_train = scaler.fit_transform(X_train)\n",
    "# normalized_X_test = scaler.transform(X_test)\n",
    "\n",
    "# # Fit scaler trên Y_train và chuẩn hóa Y_train \n",
    "\n",
    "# scaler_y = MinMaxScaler()\n",
    "# normalized_Y_train = scaler_y.fit_transform(Y_train.values.reshape(-1, 1))\n"
   ]
  },
  {
   "cell_type": "code",
   "execution_count": 52,
   "metadata": {},
   "outputs": [
    {
     "name": "stderr",
     "output_type": "stream",
     "text": [
      "C:\\Users\\MANH HUNG\\AppData\\Local\\Temp\\ipykernel_16452\\2667245305.py:10: SettingWithCopyWarning: \n",
      "A value is trying to be set on a copy of a slice from a DataFrame.\n",
      "Try using .loc[row_indexer,col_indexer] = value instead\n",
      "\n",
      "See the caveats in the documentation: https://pandas.pydata.org/pandas-docs/stable/user_guide/indexing.html#returning-a-view-versus-a-copy\n",
      "  encoded_df[columns_to_normalize] = scaler.fit_transform(encoded_df[columns_to_normalize])\n"
     ]
    },
    {
     "data": {
      "text/html": [
       "<div>\n",
       "<style scoped>\n",
       "    .dataframe tbody tr th:only-of-type {\n",
       "        vertical-align: middle;\n",
       "    }\n",
       "\n",
       "    .dataframe tbody tr th {\n",
       "        vertical-align: top;\n",
       "    }\n",
       "\n",
       "    .dataframe thead th {\n",
       "        text-align: right;\n",
       "    }\n",
       "</style>\n",
       "<table border=\"1\" class=\"dataframe\">\n",
       "  <thead>\n",
       "    <tr style=\"text-align: right;\">\n",
       "      <th></th>\n",
       "      <th>Brand_Encoded</th>\n",
       "      <th>Model_Encoded</th>\n",
       "      <th>Year</th>\n",
       "      <th>Engine_Size</th>\n",
       "      <th>Fuel_Type_Encoded</th>\n",
       "      <th>Transmission_Encoded</th>\n",
       "      <th>Mileage</th>\n",
       "      <th>Doors</th>\n",
       "      <th>Owner_Count</th>\n",
       "      <th>Price</th>\n",
       "    </tr>\n",
       "  </thead>\n",
       "  <tbody>\n",
       "    <tr>\n",
       "      <th>0</th>\n",
       "      <td>0.666667</td>\n",
       "      <td>0.5</td>\n",
       "      <td>0.869565</td>\n",
       "      <td>0.80</td>\n",
       "      <td>0.333333</td>\n",
       "      <td>0.0</td>\n",
       "      <td>0.966648</td>\n",
       "      <td>0.333333</td>\n",
       "      <td>1.00</td>\n",
       "      <td>8501</td>\n",
       "    </tr>\n",
       "    <tr>\n",
       "      <th>1</th>\n",
       "      <td>0.222222</td>\n",
       "      <td>0.0</td>\n",
       "      <td>0.521739</td>\n",
       "      <td>0.25</td>\n",
       "      <td>0.666667</td>\n",
       "      <td>0.5</td>\n",
       "      <td>0.017775</td>\n",
       "      <td>0.000000</td>\n",
       "      <td>0.50</td>\n",
       "      <td>12092</td>\n",
       "    </tr>\n",
       "    <tr>\n",
       "      <th>2</th>\n",
       "      <td>0.777778</td>\n",
       "      <td>0.0</td>\n",
       "      <td>0.869565</td>\n",
       "      <td>0.80</td>\n",
       "      <td>0.333333</td>\n",
       "      <td>0.5</td>\n",
       "      <td>0.771584</td>\n",
       "      <td>0.666667</td>\n",
       "      <td>0.25</td>\n",
       "      <td>11171</td>\n",
       "    </tr>\n",
       "    <tr>\n",
       "      <th>3</th>\n",
       "      <td>0.000000</td>\n",
       "      <td>0.0</td>\n",
       "      <td>1.000000</td>\n",
       "      <td>0.25</td>\n",
       "      <td>0.000000</td>\n",
       "      <td>0.0</td>\n",
       "      <td>0.536626</td>\n",
       "      <td>0.000000</td>\n",
       "      <td>0.00</td>\n",
       "      <td>11780</td>\n",
       "    </tr>\n",
       "    <tr>\n",
       "      <th>4</th>\n",
       "      <td>1.000000</td>\n",
       "      <td>0.0</td>\n",
       "      <td>0.130435</td>\n",
       "      <td>0.40</td>\n",
       "      <td>0.666667</td>\n",
       "      <td>1.0</td>\n",
       "      <td>0.955558</td>\n",
       "      <td>0.333333</td>\n",
       "      <td>0.50</td>\n",
       "      <td>2867</td>\n",
       "    </tr>\n",
       "  </tbody>\n",
       "</table>\n",
       "</div>"
      ],
      "text/plain": [
       "   Brand_Encoded  Model_Encoded      Year  Engine_Size  Fuel_Type_Encoded  \\\n",
       "0       0.666667            0.5  0.869565         0.80           0.333333   \n",
       "1       0.222222            0.0  0.521739         0.25           0.666667   \n",
       "2       0.777778            0.0  0.869565         0.80           0.333333   \n",
       "3       0.000000            0.0  1.000000         0.25           0.000000   \n",
       "4       1.000000            0.0  0.130435         0.40           0.666667   \n",
       "\n",
       "   Transmission_Encoded   Mileage     Doors  Owner_Count  Price  \n",
       "0                   0.0  0.966648  0.333333         1.00   8501  \n",
       "1                   0.5  0.017775  0.000000         0.50  12092  \n",
       "2                   0.5  0.771584  0.666667         0.25  11171  \n",
       "3                   0.0  0.536626  0.000000         0.00  11780  \n",
       "4                   1.0  0.955558  0.333333         0.50   2867  "
      ]
     },
     "execution_count": 52,
     "metadata": {},
     "output_type": "execute_result"
    }
   ],
   "source": [
    "#Normalization\n",
    "\n",
    "scaler = MinMaxScaler()\n",
    "\n",
    "X_train = scaler.fit_transform(X_train)\n",
    "\n",
    "X_test = scaler.transform(X_test)\n",
    "\n",
    "columns_to_normalize = encoded_df.columns.drop('Price')\n",
    "encoded_df[columns_to_normalize] = scaler.fit_transform(encoded_df[columns_to_normalize])\n",
    "\n",
    "# # Display the first few rows to verify normalization\n",
    "encoded_df.head()\n",
    "\n",
    "\n",
    "\n"
   ]
  },
  {
   "cell_type": "markdown",
   "metadata": {},
   "source": [
    "## **Linear Regression**"
   ]
  },
  {
   "cell_type": "code",
   "execution_count": 34,
   "metadata": {},
   "outputs": [],
   "source": [
    "from sklearn.linear_model import LinearRegression"
   ]
  },
  {
   "cell_type": "code",
   "execution_count": null,
   "metadata": {},
   "outputs": [],
   "source": [
    "model1 = LinearRegression()\n",
    "\n",
    "# Huấn luyện mô hình\n",
    "model1.fit(X_train,Y_train)\n",
    "\n",
    "# Dự đoán trên tập dữ liệu kiểm tra\n",
    "Y_pred = model1.predict(X_test)"
   ]
  },
  {
   "cell_type": "code",
   "execution_count": null,
   "metadata": {},
   "outputs": [],
   "source": [
    "# Dự đoán trên tập dữ liệu kiểm tra\n",
    "\n",
    "# Inverse transform Y_pred để đưa kết quả về giá trị ban đầu\n",
    "# Y_pred = Y_pred.reshape(-1, 1)  # Đảm bảo đúng shape\n",
    "# Y_pred_original = scaler_y.inverse_transform(Y_pred)\n"
   ]
  },
  {
   "cell_type": "code",
   "execution_count": 16,
   "metadata": {},
   "outputs": [
    {
     "name": "stdout",
     "output_type": "stream",
     "text": [
      "Mean Absolute Error (MAE): 635.7050\n",
      "Mean Squared Error (MSE): 828834.0952\n",
      "R^2 Score: 0.9098\n"
     ]
    }
   ],
   "source": [
    "# Đánh giá\n",
    "\n",
    "mae = mean_absolute_error(Y_test, Y_pred)\n",
    "mse = mean_squared_error(Y_test, Y_pred)\n",
    "r2 = r2_score(Y_test, Y_pred)\n",
    "\n",
    "print(f\"Mean Absolute Error (MAE): {mae:.4f}\")\n",
    "print(f\"Mean Squared Error (MSE): {mse:.4f}\")\n",
    "print(f\"R^2 Score: {r2:.4f}\")"
   ]
  },
  {
   "cell_type": "markdown",
   "metadata": {},
   "source": [
    "## **Random Forest**"
   ]
  },
  {
   "cell_type": "code",
   "execution_count": 31,
   "metadata": {},
   "outputs": [],
   "source": [
    "from sklearn.ensemble import RandomForestRegressor "
   ]
  },
  {
   "cell_type": "code",
   "execution_count": 35,
   "metadata": {},
   "outputs": [],
   "source": [
    "model_rf = RandomForestRegressor(n_estimators=100, random_state=42)\n",
    "\n",
    "# Huấn luyện mô hình\n",
    "model_rf.fit(X_train, Y_train)\n",
    "\n",
    "# Dự đoán trên tập dữ liệu kiểm tra\n",
    "Y_pred_rf = model_rf.predict(X_test)"
   ]
  },
  {
   "cell_type": "code",
   "execution_count": 19,
   "metadata": {},
   "outputs": [
    {
     "name": "stdout",
     "output_type": "stream",
     "text": [
      "Mean Absolute Error (MAE): 470.1758\n",
      "Mean Squared Error (MSE): 331648.3895\n",
      "R^2 Score: 0.9639\n"
     ]
    }
   ],
   "source": [
    "mae = mean_absolute_error(Y_test, Y_pred_rf)\n",
    "mse = mean_squared_error(Y_test, Y_pred_rf)\n",
    "r2 = r2_score(Y_test, Y_pred_rf)\n",
    "\n",
    "print(f\"Mean Absolute Error (MAE): {mae:.4f}\")\n",
    "print(f\"Mean Squared Error (MSE): {mse:.4f}\")\n",
    "print(f\"R^2 Score: {r2:.4f}\")"
   ]
  },
  {
   "cell_type": "markdown",
   "metadata": {},
   "source": [
    "## **Decision Tree**"
   ]
  },
  {
   "cell_type": "code",
   "execution_count": 32,
   "metadata": {},
   "outputs": [],
   "source": [
    "from sklearn.tree import DecisionTreeRegressor   "
   ]
  },
  {
   "cell_type": "code",
   "execution_count": null,
   "metadata": {},
   "outputs": [],
   "source": [
    "model_dt = DecisionTreeRegressor(random_state=42)\n",
    "\n",
    "# Huấn luyện mô hình\n",
    "model_dt.fit(X_train, Y_train)\n",
    "\n",
    "# Dự đoán trên tập dữ liệu kiểm tra\n",
    "Y_pred_xgb = model_dt.predict(X_test)"
   ]
  },
  {
   "cell_type": "code",
   "execution_count": null,
   "metadata": {},
   "outputs": [
    {
     "name": "stdout",
     "output_type": "stream",
     "text": [
      "Mean Absolute Error (MAE): 724.8140\n",
      "Mean Squared Error (MSE): 860983.0540\n",
      "R^2 Score: 0.9063\n"
     ]
    }
   ],
   "source": [
    "mae = mean_absolute_error(Y_test, Y_pred_xgb)\n",
    "mse = mean_squared_error(Y_test, Y_pred_xgb)\n",
    "r2 = r2_score(Y_test, Y_pred_xgb)\n",
    "\n",
    "print(f\"Mean Absolute Error (MAE): {mae:.4f}\")\n",
    "print(f\"Mean Squared Error (MSE): {mse:.4f}\")\n",
    "print(f\"R^2 Score: {r2:.4f}\")"
   ]
  },
  {
   "cell_type": "code",
   "execution_count": 24,
   "metadata": {},
   "outputs": [
    {
     "name": "stdout",
     "output_type": "stream",
     "text": [
      "Collecting xgboost\n",
      "  Downloading xgboost-2.1.4-py3-none-win_amd64.whl (124.9 MB)\n",
      "Requirement already satisfied: numpy in c:\\users\\manh hung\\anaconda3\\lib\\site-packages (from xgboost) (1.21.5)\n",
      "Requirement already satisfied: scipy in c:\\users\\manh hung\\anaconda3\\lib\\site-packages (from xgboost) (1.7.3)\n",
      "Installing collected packages: xgboost\n",
      "Successfully installed xgboost-2.1.4\n"
     ]
    }
   ],
   "source": [
    "!pip install xgboost"
   ]
  },
  {
   "cell_type": "code",
   "execution_count": 25,
   "metadata": {},
   "outputs": [],
   "source": [
    "import xgboost as xgb"
   ]
  },
  {
   "cell_type": "code",
   "execution_count": null,
   "metadata": {},
   "outputs": [],
   "source": [
    "model_xgb = xgb.XGBRegressor()\n",
    "\n",
    "# Huấn luyện mô hình\n",
    "model_xgb.fit(X_train, Y_train)\n",
    "\n",
    "# Dự đoán trên tập dữ liệu kiểm tra\n",
    "Y_pred_xgb = model_xgb.predict(X_test)"
   ]
  },
  {
   "cell_type": "code",
   "execution_count": 29,
   "metadata": {},
   "outputs": [
    {
     "name": "stdout",
     "output_type": "stream",
     "text": [
      "Mean Absolute Error (MAE): 196.2672\n",
      "Mean Squared Error (MSE): 60463.1192\n",
      "R^2 Score: 0.9934\n"
     ]
    }
   ],
   "source": [
    "mae = mean_absolute_error(Y_test, Y_pred_xgb)\n",
    "mse = mean_squared_error(Y_test, Y_pred_xgb)\n",
    "r2 = r2_score(Y_test, Y_pred_xgb)\n",
    "\n",
    "print(f\"Mean Absolute Error (MAE): {mae:.4f}\")\n",
    "print(f\"Mean Squared Error (MSE): {mse:.4f}\")\n",
    "print(f\"R^2 Score: {r2:.4f}\")"
   ]
  },
  {
   "cell_type": "markdown",
   "metadata": {},
   "source": [
    "## **CNN Deep Learning Model and the 'Data to Image' approach**"
   ]
  },
  {
   "cell_type": "code",
   "execution_count": null,
   "metadata": {},
   "outputs": [
    {
     "data": {
      "text/plain": [
       "(       Image    Price\n",
       " 0  car_0.png   8501.0\n",
       " 1  car_1.png  12092.0\n",
       " 2  car_2.png  11171.0\n",
       " 3  car_3.png  11780.0\n",
       " 4  car_4.png   2867.0,\n",
       " ['car_0.png', 'car_1.png', 'car_10.png', 'car_100.png', 'car_1000.png'])"
      ]
     },
     "execution_count": 65,
     "metadata": {},
     "output_type": "execute_result"
    }
   ],
   "source": [
    "import os\n",
    "from PIL import Image\n",
    "\n",
    "# Ensure 'car_imgs' directory exists\n",
    "output_dir = 'car_imgs'\n",
    "if not os.path.exists(output_dir):\n",
    "    os.makedirs(output_dir)\n",
    "\n",
    "# Initialize an empty list to store image labels and corresponding prices\n",
    "image_labels = []\n",
    "\n",
    "# Column order for creating the image (all normalized columns except Price)\n",
    "cols_order = columns_to_normalize\n",
    "\n",
    "# Create 64x64 images for each row of the dataset\n",
    "for index, row in encoded_df.iterrows():\n",
    "    # Initialize a blank white image of 64x64\n",
    "    img = np.full((4, 4), 255, dtype=np.uint8)\n",
    "    \n",
    "    for i in range(min(len(cols_order), 4)):\n",
    "        for j in range(4):\n",
    "            value = row[cols_order[i]]\n",
    "            for k in range(1):\n",
    "                img[j][i * 1 + k] = int(255 * value)\n",
    "\n",
    "    # Save the image\n",
    "    img_name = f'car_{index}.png'\n",
    "    image_path = os.path.join(output_dir, img_name)\n",
    "    image = Image.fromarray(img)\n",
    "    image.save(image_path)\n",
    "\n",
    "    # Store the image name and corresponding price\n",
    "    image_labels.append([img_name, row['Price']])\n",
    "\n",
    "# Save image labels and prices to a CSV\n",
    "labels_df = pd.DataFrame(image_labels, columns=['Image', 'Price'])\n",
    "labels_csv_path = os.path.join(output_dir, 'image_labels.csv')\n",
    "labels_df.to_csv(labels_csv_path, index=False)\n",
    "\n",
    "# Output confirmation and sample images/labels\n",
    "labels_df.head(), os.listdir(output_dir)[:5]\n"
   ]
  },
  {
   "cell_type": "code",
   "execution_count": null,
   "metadata": {},
   "outputs": [
    {
     "name": "stdout",
     "output_type": "stream",
     "text": [
      "Ảnh đã được lưu thành 'car_0.png'\n"
     ]
    }
   ],
   "source": []
  }
 ],
 "metadata": {
  "kernelspec": {
   "display_name": "base",
   "language": "python",
   "name": "python3"
  },
  "language_info": {
   "codemirror_mode": {
    "name": "ipython",
    "version": 3
   },
   "file_extension": ".py",
   "mimetype": "text/x-python",
   "name": "python",
   "nbconvert_exporter": "python",
   "pygments_lexer": "ipython3",
   "version": "3.9.12"
  }
 },
 "nbformat": 4,
 "nbformat_minor": 2
}
